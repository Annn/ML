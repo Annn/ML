{
 "cells": [
  {
   "cell_type": "markdown",
   "metadata": {},
   "source": [
    "Let's use the data set from the lecture:"
   ]
  },
  {
   "cell_type": "markdown",
   "metadata": {},
   "source": [
    "|**Aircraft name** | **Distance range (km)** | **Seats count** | **Aircraft type** |\n",
    "|------------------|-------------------------|-----------------|-------------------|\n",
    "| Cesna 510 Mustang| 1940                    |             4   | private jet       |\n",
    "| Falcon 10/100    | 2960                    |             9   | private jet       |\n",
    "| Hawker 900/900XP | 4630                    |             9   | private jet       |\n",
    "| ATR 72-600       | 1528                    |            78   | medium size aircraft|\n",
    "| Bombardier Dash 8 Q400 | 2040              |            90   | medium size aircraft|\n",
    "| Embraer ERJ145 XR| 3700                    |            50   | medium size aircraft|\n",
    "| Boeing 747-8     | 14815                   |           467   | jet airliner      |\n",
    "| A380-800         | 15200                   |           509   | jet airliner      |\n",
    "| Boeing 787-8     | 15700                   |           290   | jet airliner      |\n",
    "| Boeing 737-900ER | 6045                    |           215   | jet airliner      | \n"
   ]
  },
  {
   "cell_type": "code",
   "execution_count": 3,
   "metadata": {},
   "outputs": [
    {
     "data": {
      "image/png": "[encoded data removed]",
      "text/plain": [
       "<Figure size 432x288 with 1 Axes>"
      ]
     },
     "metadata": {},
     "output_type": "display_data"
    }
   ],
   "source": [
    "import matplotlib.pyplot as plt\n",
    "import numpy as np\n",
    "\n",
    "# dataset\n",
    "X = np.array([(4, 1940), (9, 2960),\n",
    "              (9, 4630), (78, 1528),\n",
    "              (90, 2040), (50, 3700),\n",
    "              (467, 14815), (509, 15200),\n",
    "              (290, 15700), (215, 6045)])\n",
    "\n",
    "# normalize the dataset\n",
    "min_values, max_values = 1.0 * X.min(0), 1.0 * X.max(0)\n",
    "X_norm = (X - min_values) / (max_values - min_values)\n",
    "\n",
    "plt.scatter(X_norm[:, 0], X_norm[:, 1])\n",
    "plt.xlabel('Seats count'); plt.ylabel('Distance range (km)'); plt.title('Aircrafts')\n",
    "plt.grid()\n",
    "\n",
    "plt.show()"
   ]
  },
  {
   "cell_type": "code",
   "execution_count": 4,
   "metadata": {},
   "outputs": [],
   "source": [
    "data_set = X_norm\n",
    "# number of clusters\n",
    "groups = 3\n",
    "# feature space (normalized space)\n",
    "space = [[0, 1],\n",
    "         [0, 1]]\n",
    "\n",
    "error_margin = 0.01\n",
    "m = 2 # the number of features\n",
    "\n",
    "# assignation matrix\n",
    "assignation = np.zeros((len(data_set), groups))\n",
    "# centroids defined as tuples representing the coordinates\n",
    "centroids = np.array([])\n",
    "\n",
    "# euclidean distance definition\n",
    "def euclidean_distance(x, v):\n",
    "    return (sum([(x[i] - v[i]) ** 2\n",
    "                 for i in range(len(x))])) ** 0.5"
   ]
  },
  {
   "cell_type": "code",
   "execution_count": 39,
   "metadata": {},
   "outputs": [
    {
     "name": "stdout",
     "output_type": "stream",
     "text": [
      "[[0.56633663 1.        ]\n",
      " [0.         0.02907141]\n",
      " [1.         0.96471916]]\n"
     ]
    }
   ],
   "source": [
    "# centroids generation\n",
    "def generate_centroids():\n",
    "    global centroids\n",
    "    global data_set\n",
    "#     global groups\n",
    "#     global space\n",
    "#     centroids = []\n",
    "#     for _ in range(groups):\n",
    "#         centroids.append((np.random.uniform(space[0][0], space[0][1]), \n",
    "#                           np.random.uniform(space[1][0], space[1][1])))\n",
    "#     centroids = np.array(centroids)\n",
    "    # choose randomly from the dataset\n",
    "    centroids = data_set[np.random.choice(len(data_set), size=groups)]\n",
    "    \n",
    "generate_centroids()\n",
    "print(centroids)"
   ]
  },
  {
   "cell_type": "code",
   "execution_count": 6,
   "metadata": {},
   "outputs": [
    {
     "name": "stdout",
     "output_type": "stream",
     "text": [
      "[[1. 0. 0.]\n",
      " [1. 0. 0.]\n",
      " [0. 1. 0.]\n",
      " [1. 0. 0.]\n",
      " [0. 1. 0.]\n",
      " [0. 1. 0.]\n",
      " [0. 0. 1.]\n",
      " [0. 0. 1.]\n",
      " [0. 0. 1.]\n",
      " [0. 0. 1.]]\n"
     ]
    }
   ],
   "source": [
    "# column elements for the assignation matrix\n",
    "def calculate_u(x):\n",
    "    # x - a dataset entry\n",
    "    global centroids, groups\n",
    "    u_array = np.zeros(groups)\n",
    "    distances = []\n",
    "    for group in range(groups):\n",
    "        distances.append(euclidean_distance(x, centroids[group]))\n",
    "    min_id = np.argmin(distances)\n",
    "    u_array[min_id] = 1\n",
    "    return u_array\n",
    "\n",
    "assignation = np.array([calculate_u(d) for d in data_set])\n",
    "print(assignation)"
   ]
  },
  {
   "cell_type": "code",
   "execution_count": 7,
   "metadata": {},
   "outputs": [
    {
     "name": "stdout",
     "output_type": "stream",
     "text": [
      "[[0.05214521 0.04337191]\n",
      " [0.09042904 0.13608994]\n",
      " [0.72524752 0.80524979]]\n"
     ]
    }
   ],
   "source": [
    "# calculate centroids for the assignation matrix\n",
    "def new_centroids(U):\n",
    "    # U - an assignation matrix\n",
    "    global centroids, data_set, m\n",
    "    centroids = []\n",
    "    for group in range(groups):\n",
    "        u_x_vector = np.zeros(m)\n",
    "        u_scalar = 0.0\n",
    "        for i in range(len(data_set)):\n",
    "            u_scalar += U[i][group]\n",
    "            u_x_vector = np.add(u_x_vector, np.multiply(U[i][group], data_set[i]))\n",
    "        # print(u_scalar, u_x_vector)\n",
    "        centroids.append(np.divide(u_x_vector, u_scalar))\n",
    "    centroids = np.array(centroids)\n",
    "\n",
    "new_centroids(assignation)\n",
    "print(centroids)"
   ]
  },
  {
   "cell_type": "code",
   "execution_count": 8,
   "metadata": {},
   "outputs": [
    {
     "name": "stdout",
     "output_type": "stream",
     "text": [
      "0.0\n"
     ]
    }
   ],
   "source": [
    "# calculate the cumulative differences between the new and previous assignation matrices\n",
    "def assign_dif(new_assignation):\n",
    "    global assignation\n",
    "    return np.sum(np.abs(np.subtract(assignation, new_assignation)))\n",
    "\n",
    "print(assign_dif(assignation))"
   ]
  },
  {
   "cell_type": "code",
   "execution_count": 9,
   "metadata": {},
   "outputs": [
    {
     "name": "stdout",
     "output_type": "stream",
     "text": [
      "[[0.02772277 0.12556449]\n",
      " [0.24488449 0.11828488]\n",
      " [0.82772277 0.96742403]]\n",
      "[[1. 0. 0.]\n",
      " [1. 0. 0.]\n",
      " [1. 0. 0.]\n",
      " [0. 1. 0.]\n",
      " [0. 1. 0.]\n",
      " [1. 0. 0.]\n",
      " [0. 0. 1.]\n",
      " [0. 0. 1.]\n",
      " [0. 0. 1.]\n",
      " [0. 1. 0.]]\n"
     ]
    }
   ],
   "source": [
    "from copy import deepcopy\n",
    "\n",
    "def cluster():\n",
    "    global data_set, groups\n",
    "    global centroids, assignation\n",
    "    global error_margin\n",
    "    \n",
    "    assignation = np.zeros((len(data_set), groups))\n",
    "    generate_centroids()\n",
    "    \n",
    "    difference_limit_not_achieved = True\n",
    "    iter = 0\n",
    "    \n",
    "    while difference_limit_not_achieved:\n",
    "        new_assignation = np.array([calculate_u(d)\n",
    "                                    for d in data_set])\n",
    "        new_centroids(new_assignation)\n",
    "\n",
    "        if iter > 0:\n",
    "            if assign_dif(new_assignation) < error_margin:\n",
    "                difference_limit_not_achieved = False\n",
    "\n",
    "        assignation = deepcopy(new_assignation)\n",
    "        iter += 1\n",
    "\n",
    "cluster()\n",
    "print(centroids)\n",
    "print(assignation)"
   ]
  },
  {
   "cell_type": "code",
   "execution_count": 38,
   "metadata": {},
   "outputs": [
    {
     "data": {
      "image/png": "[encoded data removed]",
      "text/plain": [
       "<Figure size 432x288 with 1 Axes>"
      ]
     },
     "metadata": {},
     "output_type": "display_data"
    }
   ],
   "source": [
    "red = X_norm[np.where(np.array(assignation)[:, 0] == 1)]\n",
    "blue = X_norm[np.where(np.array(assignation)[:, 1] == 1)]\n",
    "green = X_norm[np.where(np.array(assignation)[:, 2] == 1)]\n",
    "\n",
    "plt.scatter(blue[:, 0], blue[:, 1], color='blue')\n",
    "plt.scatter(red[:, 0], red[:, 1], color='red')\n",
    "plt.scatter(green[:, 0], green[:, 1], color='green')\n",
    "\n",
    "plt.scatter(centroids[:, 0], centroids[:, 1], color='black', marker='x')\n",
    "plt.xlabel('Seats count')\n",
    "plt.ylabel('Distance range (km)')\n",
    "plt.title('Aircrafts (clusters)')\n",
    "plt.grid()\n",
    "plt.show()"
   ]
  },
  {
   "cell_type": "markdown",
   "metadata": {},
   "source": [
    "### Homework: Implement possibilistic k-means\n",
    "\n",
    "Goal:\n",
    "1. Implement the mahalanobis_distance function.\n",
    "2. Implement the calculate_eta function.\n",
    "3. Implement the calculate_u."
   ]
  },
  {
   "cell_type": "code",
   "execution_count": 17,
   "metadata": {},
   "outputs": [],
   "source": [
    "data_set = X_norm\n",
    "groups = 3\n",
    "error_margin = 0.01\n",
    "m = 2 # the number of features\n",
    "\n",
    "# assignation matrix\n",
    "assignation = np.zeros((len(data_set), groups))\n",
    "# centroids defined as tuples representing the coordinates\n",
    "centroids = np.array([])"
   ]
  },
  {
   "cell_type": "code",
   "execution_count": 46,
   "metadata": {},
   "outputs": [],
   "source": [
    "# mahalanobis distance definition\n",
    "# asserting there's no covariance between entries' features\n",
    "def mahalanobis_distance(x, v):\n",
    "    return (x - v).T.dot(np.eye(m)).dot(x - v) ** 0.5\n",
    "\n",
    "# matrix normalization\n",
    "def normalize(U):\n",
    "    U_norm = []\n",
    "    for u in U:\n",
    "        U_min, U_max = u.min(), u.max()\n",
    "        U_norm.append((u - U_min) / (U_max - U_min))\n",
    "    return np.array(U_norm)"
   ]
  },
  {
   "cell_type": "code",
   "execution_count": 47,
   "metadata": {},
   "outputs": [],
   "source": [
    "# possibilistic distribution measure\n",
    "def calculate_eta(U, idx):\n",
    "    # U - assignation matrix\n",
    "    # idx - the entry index\n",
    "    global groups, m\n",
    "    global data_set, centroids\n",
    "    \n",
    "    nom, denom = 0.0, 0.0\n",
    "    for i in range(groups):\n",
    "        d = mahalanobis_distance(data_set[idx], centroids[i])\n",
    "        nom += U[idx, i] ** m * d ** 2\n",
    "        denom += U[idx, i] ** m\n",
    "        \n",
    "    return nom / denom"
   ]
  },
  {
   "cell_type": "code",
   "execution_count": 48,
   "metadata": {},
   "outputs": [],
   "source": [
    "# row elements for the assignation matrix\n",
    "def calculate_u_pos(U, idx):\n",
    "    # U - an assignation matrix\n",
    "    # idx - the entry index\n",
    "    global data_set\n",
    "    global groups, m\n",
    "    global centroids\n",
    "    \n",
    "    eta = calculate_eta(U, idx)\n",
    "    u_row = []\n",
    "    for i in range(groups):\n",
    "        d = mahalanobis_distance(data_set[idx], centroids[i])\n",
    "        u_row.append(1.0 / (1 + (1.0 * d / eta) ** (2.0 / (m - 1))))\n",
    "    \n",
    "    return np.array(u_row)"
   ]
  },
  {
   "cell_type": "code",
   "execution_count": 49,
   "metadata": {},
   "outputs": [],
   "source": [
    "# calculate centroids for the given assignation matrix\n",
    "def new_centroids_pos(U):\n",
    "    # U - an assignation matrix\n",
    "    global centroids\n",
    "    global groups, m\n",
    "    global data_set\n",
    "    centroids = []\n",
    "    for group in range(groups):\n",
    "        u_x_vector = np.zeros(m)\n",
    "        u_scalar = 0.0\n",
    "        for i in range(len(data_set)):\n",
    "            u_scalar += U[i, group] ** m\n",
    "            u_x_vector = np.add(u_x_vector, np.multiply(U[i][group] ** m, data_set[i]))\n",
    "        centroids.append(np.divide(u_x_vector, u_scalar))\n",
    "    centroids = np.array(centroids)"
   ]
  },
  {
   "cell_type": "code",
   "execution_count": 50,
   "metadata": {},
   "outputs": [],
   "source": [
    "def cluster_possibilistic():\n",
    "    global data_set, groups\n",
    "    global centroids, assignation\n",
    "    global error_margin\n",
    "    \n",
    "    assignation = np.random.rand(len(data_set), groups)\n",
    "    generate_centroids()\n",
    "    \n",
    "    difference_limit_not_achieved = True\n",
    "    iter = 0\n",
    "    \n",
    "    while difference_limit_not_achieved:\n",
    "        new_assignation = np.array([calculate_u_pos(assignation, i)\n",
    "                                    for i in range(len(data_set))])\n",
    "        new_assignation = normalize(new_assignation)\n",
    "        new_centroids_pos(new_assignation)\n",
    "        \n",
    "        if iter > 0:\n",
    "            if assign_dif(new_assignation) < error_margin:\n",
    "                difference_limit_not_achieved = False\n",
    "\n",
    "        assignation = deepcopy(new_assignation)\n",
    "        iter += 1"
   ]
  },
  {
   "cell_type": "code",
   "execution_count": 55,
   "metadata": {},
   "outputs": [
    {
     "name": "stdout",
     "output_type": "stream",
     "text": [
      "[[0.12079208 0.12244466]\n",
      " [0.56445976 0.99117249]\n",
      " [0.9584158  0.95113605]]\n",
      "[[1.00000000e+00 5.76844739e-03 0.00000000e+00]\n",
      " [1.00000000e+00 3.81820222e-03 0.00000000e+00]\n",
      " [1.00000000e+00 9.19039994e-03 0.00000000e+00]\n",
      " [1.00000000e+00 3.61708970e-03 0.00000000e+00]\n",
      " [1.00000000e+00 2.53309513e-03 0.00000000e+00]\n",
      " [1.00000000e+00 6.62150915e-04 0.00000000e+00]\n",
      " [0.00000000e+00 1.36342764e-02 1.00000000e+00]\n",
      " [0.00000000e+00 8.78654924e-03 1.00000000e+00]\n",
      " [0.00000000e+00 1.00000000e+00 4.66965520e-04]\n",
      " [1.00000000e+00 1.13651947e-01 0.00000000e+00]]\n"
     ]
    },
    {
     "data": {
      "image/png": "[encoded data removed]",
      "text/plain": [
       "<Figure size 432x288 with 1 Axes>"
      ]
     },
     "metadata": {},
     "output_type": "display_data"
    }
   ],
   "source": [
    "cluster_possibilistic()\n",
    "print(centroids)\n",
    "print(assignation)\n",
    "\n",
    "red = X_norm[np.where(np.array(assignation)[:, 0] == 1)]\n",
    "blue = X_norm[np.where(np.array(assignation)[:, 1] == 1)]\n",
    "green = X_norm[np.where(np.array(assignation)[:, 2] == 1)]\n",
    "\n",
    "plt.scatter(blue[:, 0], blue[:, 1], color='blue')\n",
    "plt.scatter(red[:, 0], red[:, 1], color='red')\n",
    "plt.scatter(green[:, 0], green[:, 1], color='green')\n",
    "\n",
    "plt.scatter(centroids[:, 0], centroids[:, 1], color='black', marker='x')\n",
    "plt.xlabel('Seats count')\n",
    "plt.ylabel('Distance range (km)')\n",
    "plt.title('Aircrafts (clusters)')\n",
    "plt.grid()\n",
    "plt.show()"
   ]
  }
 ],
 "metadata": {
  "kernelspec": {
   "display_name": "Python 3",
   "language": "python",
   "name": "python3"
  },
  "language_info": {
   "codemirror_mode": {
    "name": "ipython",
    "version": 3
   },
   "file_extension": ".py",
   "mimetype": "text/x-python",
   "name": "python",
   "nbconvert_exporter": "python",
   "pygments_lexer": "ipython3",
   "version": "3.6.4"
  }
 },
 "nbformat": 4,
 "nbformat_minor": 2
}
