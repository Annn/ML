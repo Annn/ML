{
 "cells": [
  {
   "cell_type": "markdown",
   "metadata": {},
   "source": [
    "<h3>Homework #2<br></h3>\n",
    "Implement the Czekanowski-Dice index."
   ]
  },
  {
   "cell_type": "code",
   "execution_count": 47,
   "metadata": {},
   "outputs": [
    {
     "data": {
      "text/plain": [
       "0.4000000000000001"
      ]
     },
     "execution_count": 47,
     "metadata": {},
     "output_type": "execute_result"
    }
   ],
   "source": [
    "import numpy as np\n",
    "\n",
    "X = np.array([(4, 1940), (9, 2960), (9, 4630), (78, 1528), (90, 2040), (50, 3700), \\\n",
    "              (467, 14815), (509, 15200), (290, 15700), (215, 6045)])\n",
    "\n",
    "groups = 3\n",
    "labels = np.floor(groups * np.random.rand(len(X))).astype(int) \n",
    "assignation = np.random.rand(len(X), groups)\n",
    "\n",
    "def czekanowski_dice_index(data_set, assignation, labels):\n",
    "    len_assign = len(assignation)\n",
    "    groups = len(assignation[0])\n",
    "    \n",
    "    assigned_groups = []\n",
    "    for el in range(len_assign):\n",
    "        group_id = np.argmax(assignation[el])\n",
    "        assigned_groups.append(group_id)\n",
    "    \n",
    "    # fill in assignation matrices (theoretical and empirical) with zeros\n",
    "    theor_assign = np.zeros((len_assign, groups))\n",
    "    emp_assign = np.zeros((len_assign, groups))\n",
    "    \n",
    "    for i in range(len_assign):\n",
    "        theor_assign[i, assigned_groups[i]] = 1\n",
    "        emp_assign[i, labels[i]] = 1\n",
    "    # print(theor_assign)\n",
    "    # print(emp_assign)\n",
    "    \n",
    "    # define true positive (TP), false positive (FP), and false negative (FN)\n",
    "    true_pos, false_pos, false_neg = 0, 0, 0\n",
    "    for i in range(len_assign):\n",
    "        for j in range(groups):\n",
    "            if theor_assign[i, j] == 1 and emp_assign[i, j] == 1:\n",
    "                true_pos += 1\n",
    "            elif theor_assign[i, j] == 1 and emp_assign[i, j] == 0:\n",
    "                false_pos += 1\n",
    "            elif theor_assign[i, j] == 0 and emp_assign[i, j] == 1:\n",
    "                false_neg += 1\n",
    "    # print(true_pos, false_pos, false_neg)\n",
    "    \n",
    "    # define precision, recall\n",
    "    precision = true_pos / (true_pos + false_pos)\n",
    "    recall = true_pos / (true_pos + false_neg)\n",
    "    \n",
    "    # print(precision, recall)\n",
    "    return 2 * precision * recall / (precision + recall)\n",
    "    \n",
    "czekanowski_dice_index(X, assignation, labels)"
   ]
  },
  {
   "cell_type": "code",
   "execution_count": null,
   "metadata": {},
   "outputs": [],
   "source": []
  }
 ],
 "metadata": {
  "kernelspec": {
   "display_name": "Python 3",
   "language": "python",
   "name": "python3"
  },
  "language_info": {
   "codemirror_mode": {
    "name": "ipython",
    "version": 3
   },
   "file_extension": ".py",
   "mimetype": "text/x-python",
   "name": "python",
   "nbconvert_exporter": "python",
   "pygments_lexer": "ipython3",
   "version": "3.6.4"
  }
 },
 "nbformat": 4,
 "nbformat_minor": 2
}
